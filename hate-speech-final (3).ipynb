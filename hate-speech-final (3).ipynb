{
 "cells": [
  {
   "cell_type": "code",
   "execution_count": 2,
   "metadata": {
    "_cell_guid": "b1076dfc-b9ad-4769-8c92-a6c4dae69d19",
    "_uuid": "8f2839f25d086af736a60e9eeb907d3b93b6e0e5",
    "execution": {
     "iopub.execute_input": "2021-03-13T10:44:38.382380Z",
     "iopub.status.busy": "2021-03-13T10:44:38.381654Z",
     "iopub.status.idle": "2021-03-13T10:44:38.393512Z",
     "shell.execute_reply": "2021-03-13T10:44:38.393027Z"
    },
    "papermill": {
     "duration": 0.042843,
     "end_time": "2021-03-13T10:44:38.393672",
     "exception": false,
     "start_time": "2021-03-13T10:44:38.350829",
     "status": "completed"
    },
    "pycharm": {
     "name": "#%%\n"
    },
    "tags": []
   },
   "outputs": [],
   "source": [
    "# This Python 3 environment comes with many helpful analytics libraries installed\n",
    "# It is defined by the kaggle/python Docker image: https://github.com/kaggle/docker-python\n",
    "# For example, here's several helpful packages to load\n",
    "\n",
    "import numpy as np # linear algebra\n",
    "import pandas as pd # data processing, CSV file I/O (e.g. pd.read_csv)\n",
    "\n",
    "# Input data files are available in the read-only \"../input/\" directory\n",
    "# For example, running this (by clicking run or pressing Shift+Enter) will list all files under the input directory\n",
    "\n",
    "import os\n",
    "for dirname, _, filenames in os.walk('/kaggle/input'):\n",
    "    for filename in filenames:\n",
    "        print(os.path.join(dirname, filename))\n",
    "\n",
    "# You can write up to 20GB to the current directory (/kaggle/working/) that gets preserved as output when you create a version using \"Save & Run All\" \n",
    "# You can also write temporary files to /kaggle/temp/, but they won't be saved outside of the current session"
   ]
  },
  {
   "cell_type": "markdown",
   "metadata": {
    "papermill": {
     "duration": 0.024864,
     "end_time": "2021-03-13T10:44:38.445236",
     "exception": false,
     "start_time": "2021-03-13T10:44:38.420372",
     "status": "completed"
    },
    "pycharm": {
     "name": "#%% md\n"
    },
    "tags": []
   },
   "source": [
    "### Reading data from kaggle "
   ]
  },
  {
   "cell_type": "code",
   "execution_count": 3,
   "metadata": {
    "execution": {
     "iopub.execute_input": "2021-03-13T10:44:38.499849Z",
     "iopub.status.busy": "2021-03-13T10:44:38.499309Z",
     "iopub.status.idle": "2021-03-13T10:44:38.570707Z",
     "shell.execute_reply": "2021-03-13T10:44:38.570225Z"
    },
    "papermill": {
     "duration": 0.100697,
     "end_time": "2021-03-13T10:44:38.570859",
     "exception": false,
     "start_time": "2021-03-13T10:44:38.470162",
     "status": "completed"
    },
    "pycharm": {
     "name": "#%%\n"
    },
    "tags": []
   },
   "outputs": [],
   "source": [
    "df=pd.read_csv('labeled_data.csv')"
   ]
  },
  {
   "cell_type": "code",
   "execution_count": 4,
   "metadata": {
    "execution": {
     "iopub.execute_input": "2021-03-13T10:44:38.638782Z",
     "iopub.status.busy": "2021-03-13T10:44:38.638222Z",
     "iopub.status.idle": "2021-03-13T10:44:38.647424Z",
     "shell.execute_reply": "2021-03-13T10:44:38.647842Z"
    },
    "papermill": {
     "duration": 0.051414,
     "end_time": "2021-03-13T10:44:38.647970",
     "exception": false,
     "start_time": "2021-03-13T10:44:38.596556",
     "status": "completed"
    },
    "pycharm": {
     "name": "#%%\n"
    },
    "tags": []
   },
   "outputs": [
    {
     "data": {
      "text/html": [
       "<div>\n",
       "<style scoped>\n",
       "    .dataframe tbody tr th:only-of-type {\n",
       "        vertical-align: middle;\n",
       "    }\n",
       "\n",
       "    .dataframe tbody tr th {\n",
       "        vertical-align: top;\n",
       "    }\n",
       "\n",
       "    .dataframe thead th {\n",
       "        text-align: right;\n",
       "    }\n",
       "</style>\n",
       "<table border=\"1\" class=\"dataframe\">\n",
       "  <thead>\n",
       "    <tr style=\"text-align: right;\">\n",
       "      <th></th>\n",
       "      <th>Unnamed: 0</th>\n",
       "      <th>count</th>\n",
       "      <th>hate_speech</th>\n",
       "      <th>offensive_language</th>\n",
       "      <th>neither</th>\n",
       "      <th>class</th>\n",
       "      <th>tweet</th>\n",
       "    </tr>\n",
       "  </thead>\n",
       "  <tbody>\n",
       "    <tr>\n",
       "      <th>0</th>\n",
       "      <td>0</td>\n",
       "      <td>3</td>\n",
       "      <td>0</td>\n",
       "      <td>0</td>\n",
       "      <td>3</td>\n",
       "      <td>2</td>\n",
       "      <td>!!! RT @mayasolovely: As a woman you shouldn't...</td>\n",
       "    </tr>\n",
       "    <tr>\n",
       "      <th>1</th>\n",
       "      <td>1</td>\n",
       "      <td>3</td>\n",
       "      <td>0</td>\n",
       "      <td>3</td>\n",
       "      <td>0</td>\n",
       "      <td>1</td>\n",
       "      <td>!!!!! RT @mleew17: boy dats cold...tyga dwn ba...</td>\n",
       "    </tr>\n",
       "    <tr>\n",
       "      <th>2</th>\n",
       "      <td>2</td>\n",
       "      <td>3</td>\n",
       "      <td>0</td>\n",
       "      <td>3</td>\n",
       "      <td>0</td>\n",
       "      <td>1</td>\n",
       "      <td>!!!!!!! RT @UrKindOfBrand Dawg!!!! RT @80sbaby...</td>\n",
       "    </tr>\n",
       "    <tr>\n",
       "      <th>3</th>\n",
       "      <td>3</td>\n",
       "      <td>3</td>\n",
       "      <td>0</td>\n",
       "      <td>2</td>\n",
       "      <td>1</td>\n",
       "      <td>1</td>\n",
       "      <td>!!!!!!!!! RT @C_G_Anderson: @viva_based she lo...</td>\n",
       "    </tr>\n",
       "    <tr>\n",
       "      <th>4</th>\n",
       "      <td>4</td>\n",
       "      <td>6</td>\n",
       "      <td>0</td>\n",
       "      <td>6</td>\n",
       "      <td>0</td>\n",
       "      <td>1</td>\n",
       "      <td>!!!!!!!!!!!!! RT @ShenikaRoberts: The shit you...</td>\n",
       "    </tr>\n",
       "    <tr>\n",
       "      <th>...</th>\n",
       "      <td>...</td>\n",
       "      <td>...</td>\n",
       "      <td>...</td>\n",
       "      <td>...</td>\n",
       "      <td>...</td>\n",
       "      <td>...</td>\n",
       "      <td>...</td>\n",
       "    </tr>\n",
       "    <tr>\n",
       "      <th>24778</th>\n",
       "      <td>25291</td>\n",
       "      <td>3</td>\n",
       "      <td>0</td>\n",
       "      <td>2</td>\n",
       "      <td>1</td>\n",
       "      <td>1</td>\n",
       "      <td>you's a muthaf***in lie &amp;#8220;@LifeAsKing: @2...</td>\n",
       "    </tr>\n",
       "    <tr>\n",
       "      <th>24779</th>\n",
       "      <td>25292</td>\n",
       "      <td>3</td>\n",
       "      <td>0</td>\n",
       "      <td>1</td>\n",
       "      <td>2</td>\n",
       "      <td>2</td>\n",
       "      <td>you've gone and broke the wrong heart baby, an...</td>\n",
       "    </tr>\n",
       "    <tr>\n",
       "      <th>24780</th>\n",
       "      <td>25294</td>\n",
       "      <td>3</td>\n",
       "      <td>0</td>\n",
       "      <td>3</td>\n",
       "      <td>0</td>\n",
       "      <td>1</td>\n",
       "      <td>young buck wanna eat!!.. dat nigguh like I ain...</td>\n",
       "    </tr>\n",
       "    <tr>\n",
       "      <th>24781</th>\n",
       "      <td>25295</td>\n",
       "      <td>6</td>\n",
       "      <td>0</td>\n",
       "      <td>6</td>\n",
       "      <td>0</td>\n",
       "      <td>1</td>\n",
       "      <td>youu got wild bitches tellin you lies</td>\n",
       "    </tr>\n",
       "    <tr>\n",
       "      <th>24782</th>\n",
       "      <td>25296</td>\n",
       "      <td>3</td>\n",
       "      <td>0</td>\n",
       "      <td>0</td>\n",
       "      <td>3</td>\n",
       "      <td>2</td>\n",
       "      <td>~~Ruffled | Ntac Eileen Dahlia - Beautiful col...</td>\n",
       "    </tr>\n",
       "  </tbody>\n",
       "</table>\n",
       "<p>24783 rows × 7 columns</p>\n",
       "</div>"
      ],
      "text/plain": [
       "       Unnamed: 0  count  hate_speech  offensive_language  neither  class  \\\n",
       "0               0      3            0                   0        3      2   \n",
       "1               1      3            0                   3        0      1   \n",
       "2               2      3            0                   3        0      1   \n",
       "3               3      3            0                   2        1      1   \n",
       "4               4      6            0                   6        0      1   \n",
       "...           ...    ...          ...                 ...      ...    ...   \n",
       "24778       25291      3            0                   2        1      1   \n",
       "24779       25292      3            0                   1        2      2   \n",
       "24780       25294      3            0                   3        0      1   \n",
       "24781       25295      6            0                   6        0      1   \n",
       "24782       25296      3            0                   0        3      2   \n",
       "\n",
       "                                                   tweet  \n",
       "0      !!! RT @mayasolovely: As a woman you shouldn't...  \n",
       "1      !!!!! RT @mleew17: boy dats cold...tyga dwn ba...  \n",
       "2      !!!!!!! RT @UrKindOfBrand Dawg!!!! RT @80sbaby...  \n",
       "3      !!!!!!!!! RT @C_G_Anderson: @viva_based she lo...  \n",
       "4      !!!!!!!!!!!!! RT @ShenikaRoberts: The shit you...  \n",
       "...                                                  ...  \n",
       "24778  you's a muthaf***in lie &#8220;@LifeAsKing: @2...  \n",
       "24779  you've gone and broke the wrong heart baby, an...  \n",
       "24780  young buck wanna eat!!.. dat nigguh like I ain...  \n",
       "24781              youu got wild bitches tellin you lies  \n",
       "24782  ~~Ruffled | Ntac Eileen Dahlia - Beautiful col...  \n",
       "\n",
       "[24783 rows x 7 columns]"
      ]
     },
     "execution_count": 4,
     "metadata": {},
     "output_type": "execute_result"
    }
   ],
   "source": [
    "df"
   ]
  },
  {
   "cell_type": "markdown",
   "metadata": {
    "papermill": {
     "duration": 0.025773,
     "end_time": "2021-03-13T10:44:38.699220",
     "exception": false,
     "start_time": "2021-03-13T10:44:38.673447",
     "status": "completed"
    },
    "pycharm": {
     "name": "#%% md\n"
    },
    "tags": []
   },
   "source": [
    "### Deleting columns which we didn't need and changing class to user identified labels"
   ]
  },
  {
   "cell_type": "code",
   "execution_count": 5,
   "metadata": {
    "execution": {
     "iopub.execute_input": "2021-03-13T10:44:38.764685Z",
     "iopub.status.busy": "2021-03-13T10:44:38.763788Z",
     "iopub.status.idle": "2021-03-13T10:44:54.828923Z",
     "shell.execute_reply": "2021-03-13T10:44:54.829691Z"
    },
    "papermill": {
     "duration": 16.104091,
     "end_time": "2021-03-13T10:44:54.829940",
     "exception": false,
     "start_time": "2021-03-13T10:44:38.725849",
     "status": "completed"
    },
    "pycharm": {
     "name": "#%%\n"
    },
    "tags": []
   },
   "outputs": [],
   "source": [
    "for index,row in df.iterrows():\n",
    "    if row['class']==0:\n",
    "        df.loc[index,'label']='hate'       \n",
    "    elif row['class']==1:\n",
    "        df.loc[index,'label']='offensive'\n",
    "    elif row['class']==2:\n",
    "        df.loc[index,'label']='neither'"
   ]
  },
  {
   "cell_type": "code",
   "execution_count": 6,
   "metadata": {
    "execution": {
     "iopub.execute_input": "2021-03-13T10:44:54.946590Z",
     "iopub.status.busy": "2021-03-13T10:44:54.945363Z",
     "iopub.status.idle": "2021-03-13T10:44:54.951224Z",
     "shell.execute_reply": "2021-03-13T10:44:54.950007Z"
    },
    "papermill": {
     "duration": 0.065778,
     "end_time": "2021-03-13T10:44:54.951395",
     "exception": false,
     "start_time": "2021-03-13T10:44:54.885617",
     "status": "completed"
    },
    "pycharm": {
     "name": "#%%\n"
    },
    "tags": []
   },
   "outputs": [],
   "source": [
    "df.drop(['Unnamed: 0','count','hate_speech','offensive_language','neither','class'],axis=1,inplace=True)"
   ]
  },
  {
   "cell_type": "code",
   "execution_count": 7,
   "metadata": {
    "execution": {
     "iopub.execute_input": "2021-03-13T10:44:55.062300Z",
     "iopub.status.busy": "2021-03-13T10:44:55.061548Z",
     "iopub.status.idle": "2021-03-13T10:44:55.068994Z",
     "shell.execute_reply": "2021-03-13T10:44:55.069982Z"
    },
    "papermill": {
     "duration": 0.06982,
     "end_time": "2021-03-13T10:44:55.070156",
     "exception": false,
     "start_time": "2021-03-13T10:44:55.000336",
     "status": "completed"
    },
    "pycharm": {
     "name": "#%%\n"
    },
    "tags": []
   },
   "outputs": [
    {
     "data": {
      "text/html": [
       "<div>\n",
       "<style scoped>\n",
       "    .dataframe tbody tr th:only-of-type {\n",
       "        vertical-align: middle;\n",
       "    }\n",
       "\n",
       "    .dataframe tbody tr th {\n",
       "        vertical-align: top;\n",
       "    }\n",
       "\n",
       "    .dataframe thead th {\n",
       "        text-align: right;\n",
       "    }\n",
       "</style>\n",
       "<table border=\"1\" class=\"dataframe\">\n",
       "  <thead>\n",
       "    <tr style=\"text-align: right;\">\n",
       "      <th></th>\n",
       "      <th>tweet</th>\n",
       "      <th>label</th>\n",
       "    </tr>\n",
       "  </thead>\n",
       "  <tbody>\n",
       "    <tr>\n",
       "      <th>0</th>\n",
       "      <td>!!! RT @mayasolovely: As a woman you shouldn't...</td>\n",
       "      <td>neither</td>\n",
       "    </tr>\n",
       "    <tr>\n",
       "      <th>1</th>\n",
       "      <td>!!!!! RT @mleew17: boy dats cold...tyga dwn ba...</td>\n",
       "      <td>offensive</td>\n",
       "    </tr>\n",
       "    <tr>\n",
       "      <th>2</th>\n",
       "      <td>!!!!!!! RT @UrKindOfBrand Dawg!!!! RT @80sbaby...</td>\n",
       "      <td>offensive</td>\n",
       "    </tr>\n",
       "    <tr>\n",
       "      <th>3</th>\n",
       "      <td>!!!!!!!!! RT @C_G_Anderson: @viva_based she lo...</td>\n",
       "      <td>offensive</td>\n",
       "    </tr>\n",
       "    <tr>\n",
       "      <th>4</th>\n",
       "      <td>!!!!!!!!!!!!! RT @ShenikaRoberts: The shit you...</td>\n",
       "      <td>offensive</td>\n",
       "    </tr>\n",
       "    <tr>\n",
       "      <th>...</th>\n",
       "      <td>...</td>\n",
       "      <td>...</td>\n",
       "    </tr>\n",
       "    <tr>\n",
       "      <th>24778</th>\n",
       "      <td>you's a muthaf***in lie &amp;#8220;@LifeAsKing: @2...</td>\n",
       "      <td>offensive</td>\n",
       "    </tr>\n",
       "    <tr>\n",
       "      <th>24779</th>\n",
       "      <td>you've gone and broke the wrong heart baby, an...</td>\n",
       "      <td>neither</td>\n",
       "    </tr>\n",
       "    <tr>\n",
       "      <th>24780</th>\n",
       "      <td>young buck wanna eat!!.. dat nigguh like I ain...</td>\n",
       "      <td>offensive</td>\n",
       "    </tr>\n",
       "    <tr>\n",
       "      <th>24781</th>\n",
       "      <td>youu got wild bitches tellin you lies</td>\n",
       "      <td>offensive</td>\n",
       "    </tr>\n",
       "    <tr>\n",
       "      <th>24782</th>\n",
       "      <td>~~Ruffled | Ntac Eileen Dahlia - Beautiful col...</td>\n",
       "      <td>neither</td>\n",
       "    </tr>\n",
       "  </tbody>\n",
       "</table>\n",
       "<p>24783 rows × 2 columns</p>\n",
       "</div>"
      ],
      "text/plain": [
       "                                                   tweet      label\n",
       "0      !!! RT @mayasolovely: As a woman you shouldn't...    neither\n",
       "1      !!!!! RT @mleew17: boy dats cold...tyga dwn ba...  offensive\n",
       "2      !!!!!!! RT @UrKindOfBrand Dawg!!!! RT @80sbaby...  offensive\n",
       "3      !!!!!!!!! RT @C_G_Anderson: @viva_based she lo...  offensive\n",
       "4      !!!!!!!!!!!!! RT @ShenikaRoberts: The shit you...  offensive\n",
       "...                                                  ...        ...\n",
       "24778  you's a muthaf***in lie &#8220;@LifeAsKing: @2...  offensive\n",
       "24779  you've gone and broke the wrong heart baby, an...    neither\n",
       "24780  young buck wanna eat!!.. dat nigguh like I ain...  offensive\n",
       "24781              youu got wild bitches tellin you lies  offensive\n",
       "24782  ~~Ruffled | Ntac Eileen Dahlia - Beautiful col...    neither\n",
       "\n",
       "[24783 rows x 2 columns]"
      ]
     },
     "execution_count": 7,
     "metadata": {},
     "output_type": "execute_result"
    }
   ],
   "source": [
    "df"
   ]
  },
  {
   "cell_type": "code",
   "execution_count": 8,
   "metadata": {
    "execution": {
     "iopub.execute_input": "2021-03-13T10:44:55.186840Z",
     "iopub.status.busy": "2021-03-13T10:44:55.186116Z",
     "iopub.status.idle": "2021-03-13T10:44:55.201366Z",
     "shell.execute_reply": "2021-03-13T10:44:55.202456Z"
    },
    "papermill": {
     "duration": 0.082935,
     "end_time": "2021-03-13T10:44:55.202668",
     "exception": false,
     "start_time": "2021-03-13T10:44:55.119733",
     "status": "completed"
    },
    "pycharm": {
     "name": "#%%\n"
    },
    "tags": []
   },
   "outputs": [
    {
     "data": {
      "text/plain": [
       "offensive    19190\n",
       "neither       4163\n",
       "hate          1430\n",
       "Name: label, dtype: int64"
      ]
     },
     "execution_count": 8,
     "metadata": {},
     "output_type": "execute_result"
    }
   ],
   "source": [
    "df['label'].value_counts()"
   ]
  },
  {
   "cell_type": "markdown",
   "metadata": {
    "papermill": {
     "duration": 0.038934,
     "end_time": "2021-03-13T10:44:55.297241",
     "exception": false,
     "start_time": "2021-03-13T10:44:55.258307",
     "status": "completed"
    },
    "pycharm": {
     "name": "#%% md\n"
    },
    "tags": []
   },
   "source": [
    "### Importing fast AI"
   ]
  },
  {
   "cell_type": "code",
   "execution_count": 9,
   "metadata": {
    "execution": {
     "iopub.execute_input": "2021-03-13T10:44:55.384481Z",
     "iopub.status.busy": "2021-03-13T10:44:55.383387Z",
     "iopub.status.idle": "2021-03-13T10:44:59.920774Z",
     "shell.execute_reply": "2021-03-13T10:44:59.919879Z"
    },
    "papermill": {
     "duration": 4.583959,
     "end_time": "2021-03-13T10:44:59.921016",
     "exception": false,
     "start_time": "2021-03-13T10:44:55.337057",
     "status": "completed"
    },
    "pycharm": {
     "name": "#%%\n"
    },
    "tags": []
   },
   "outputs": [],
   "source": [
    "from fastai.text.all import *"
   ]
  },
  {
   "cell_type": "markdown",
   "metadata": {
    "papermill": {
     "duration": 0.028903,
     "end_time": "2021-03-13T10:44:59.979936",
     "exception": false,
     "start_time": "2021-03-13T10:44:59.951033",
     "status": "completed"
    },
    "pycharm": {
     "name": "#%% md\n"
    },
    "tags": []
   },
   "source": [
    "## As we are using transfer learning in NLP and using ULMFIT method first we have to make our language model which would be trained on pre trained wikipedia model"
   ]
  },
  {
   "cell_type": "code",
   "execution_count": 10,
   "metadata": {
    "execution": {
     "iopub.execute_input": "2021-03-13T10:45:00.042991Z",
     "iopub.status.busy": "2021-03-13T10:45:00.041176Z",
     "iopub.status.idle": "2021-03-13T10:45:00.043682Z",
     "shell.execute_reply": "2021-03-13T10:45:00.044117Z"
    },
    "papermill": {
     "duration": 0.036131,
     "end_time": "2021-03-13T10:45:00.044251",
     "exception": false,
     "start_time": "2021-03-13T10:45:00.008120",
     "status": "completed"
    },
    "pycharm": {
     "name": "#%%\n"
    },
    "tags": []
   },
   "outputs": [],
   "source": [
    "df_text=df['tweet']"
   ]
  },
  {
   "cell_type": "code",
   "execution_count": 11,
   "metadata": {
    "execution": {
     "iopub.execute_input": "2021-03-13T10:45:00.105868Z",
     "iopub.status.busy": "2021-03-13T10:45:00.104301Z",
     "iopub.status.idle": "2021-03-13T10:45:00.108600Z",
     "shell.execute_reply": "2021-03-13T10:45:00.108207Z"
    },
    "papermill": {
     "duration": 0.036005,
     "end_time": "2021-03-13T10:45:00.108708",
     "exception": false,
     "start_time": "2021-03-13T10:45:00.072703",
     "status": "completed"
    },
    "pycharm": {
     "name": "#%%\n"
    },
    "tags": []
   },
   "outputs": [],
   "source": [
    "df_text=df_text.to_frame()"
   ]
  },
  {
   "cell_type": "markdown",
   "metadata": {
    "papermill": {
     "duration": 0.027543,
     "end_time": "2021-03-13T10:45:00.164452",
     "exception": false,
     "start_time": "2021-03-13T10:45:00.136909",
     "status": "completed"
    },
    "pycharm": {
     "name": "#%% md\n"
    },
    "tags": []
   },
   "source": [
    "## Creating DataBlock "
   ]
  },
  {
   "cell_type": "code",
   "execution_count": 12,
   "metadata": {
    "execution": {
     "iopub.execute_input": "2021-03-13T10:45:00.226061Z",
     "iopub.status.busy": "2021-03-13T10:45:00.225449Z",
     "iopub.status.idle": "2021-03-13T10:45:00.662710Z",
     "shell.execute_reply": "2021-03-13T10:45:00.662196Z"
    },
    "papermill": {
     "duration": 0.469757,
     "end_time": "2021-03-13T10:45:00.662874",
     "exception": false,
     "start_time": "2021-03-13T10:45:00.193117",
     "status": "completed"
    },
    "pycharm": {
     "name": "#%%\n"
    },
    "tags": []
   },
   "outputs": [],
   "source": [
    "dls_lm = DataBlock(\n",
    "    blocks=TextBlock.from_df('tweet', is_lm=True),\n",
    "    get_x=ColReader('text'), \n",
    "    splitter=RandomSplitter(0.1) \n",
    "    # using only 10% of entire comments data for validation inorder to learn more\n",
    ")"
   ]
  },
  {
   "cell_type": "markdown",
   "metadata": {
    "papermill": {
     "duration": 0.029336,
     "end_time": "2021-03-13T10:45:00.723115",
     "exception": false,
     "start_time": "2021-03-13T10:45:00.693779",
     "status": "completed"
    },
    "pycharm": {
     "name": "#%% md\n"
    },
    "tags": []
   },
   "source": [
    "### Creating DataLoaders"
   ]
  },
  {
   "cell_type": "code",
   "execution_count": 13,
   "metadata": {
    "execution": {
     "iopub.execute_input": "2021-03-13T10:45:00.791781Z",
     "iopub.status.busy": "2021-03-13T10:45:00.791186Z",
     "iopub.status.idle": "2021-03-13T10:45:27.289271Z",
     "shell.execute_reply": "2021-03-13T10:45:27.288421Z"
    },
    "papermill": {
     "duration": 26.537226,
     "end_time": "2021-03-13T10:45:27.289413",
     "exception": false,
     "start_time": "2021-03-13T10:45:00.752187",
     "status": "completed"
    },
    "pycharm": {
     "name": "#%%\n"
    },
    "tags": []
   },
   "outputs": [
    {
     "data": {
      "text/html": [
       "\n",
       "<style>\n",
       "    /* Turns off some styling */\n",
       "    progress {\n",
       "        /* gets rid of default border in Firefox and Opera. */\n",
       "        border: none;\n",
       "        /* Needs to be in here for Safari polyfill so background images work as expected. */\n",
       "        background-size: auto;\n",
       "    }\n",
       "    .progress-bar-interrupted, .progress-bar-interrupted::-webkit-progress-bar {\n",
       "        background: #F44336;\n",
       "    }\n",
       "</style>\n"
      ],
      "text/plain": [
       "<IPython.core.display.HTML object>"
      ]
     },
     "metadata": {},
     "output_type": "display_data"
    },
    {
     "data": {
      "text/html": [],
      "text/plain": [
       "<IPython.core.display.HTML object>"
      ]
     },
     "metadata": {},
     "output_type": "display_data"
    }
   ],
   "source": [
    "dls_lm = dls_lm.dataloaders(df_text, bs=64, seq_len=72)\n"
   ]
  },
  {
   "cell_type": "markdown",
   "metadata": {
    "papermill": {
     "duration": 0.027723,
     "end_time": "2021-03-13T10:45:27.345633",
     "exception": false,
     "start_time": "2021-03-13T10:45:27.317910",
     "status": "completed"
    },
    "pycharm": {
     "name": "#%% md\n"
    },
    "tags": []
   },
   "source": [
    "### As it is a language model it will predict the next sentence"
   ]
  },
  {
   "cell_type": "code",
   "execution_count": 14,
   "metadata": {
    "execution": {
     "iopub.execute_input": "2021-03-13T10:45:27.440030Z",
     "iopub.status.busy": "2021-03-13T10:45:27.424782Z",
     "iopub.status.idle": "2021-03-13T10:45:27.887990Z",
     "shell.execute_reply": "2021-03-13T10:45:27.888978Z"
    },
    "papermill": {
     "duration": 0.515728,
     "end_time": "2021-03-13T10:45:27.889180",
     "exception": false,
     "start_time": "2021-03-13T10:45:27.373452",
     "status": "completed"
    },
    "pycharm": {
     "name": "#%%\n"
    },
    "tags": []
   },
   "outputs": [
    {
     "data": {
      "text/html": [
       "<table border=\"1\" class=\"dataframe\">\n",
       "  <thead>\n",
       "    <tr style=\"text-align: right;\">\n",
       "      <th></th>\n",
       "      <th>text</th>\n",
       "      <th>text_</th>\n",
       "    </tr>\n",
       "  </thead>\n",
       "  <tbody>\n",
       "    <tr>\n",
       "      <th>0</th>\n",
       "      <td>xxbos xxmaj only keep real bitches in xxunk 👭 💁 xxbos xxup rt @tibaburger : xxmaj sick ass goal # ned # worldcup2014 xxbos xxunk xxmaj nevermind . xxmaj still a little bitch . http : / / t.co / xxunk xxbos xxup rt xxunk : xxup pm : xxmaj last night this xxunk was xxunk into the murder of a father traveling w / his family to celebrate the first nig</td>\n",
       "      <td>xxmaj only keep real bitches in xxunk 👭 💁 xxbos xxup rt @tibaburger : xxmaj sick ass goal # ned # worldcup2014 xxbos xxunk xxmaj nevermind . xxmaj still a little bitch . http : / / t.co / xxunk xxbos xxup rt xxunk : xxup pm : xxmaj last night this xxunk was xxunk into the murder of a father traveling w / his family to celebrate the first nig …</td>\n",
       "    </tr>\n",
       "    <tr>\n",
       "      <th>1</th>\n",
       "      <td>at someone 's place for free the least you could do is help keep it clean # ratchet # lazy # hoe xxbos i love bad bitches that s my fucking problem xxbos xxmaj like god damn you dirty bitch xxbos @erinscafe xxmaj bu i do . i do hate the playa . xxmaj and the xxmaj yankees . xxmaj if i hate the xxmaj yankees for their xxunk i have to</td>\n",
       "      <td>someone 's place for free the least you could do is help keep it clean # ratchet # lazy # hoe xxbos i love bad bitches that s my fucking problem xxbos xxmaj like god damn you dirty bitch xxbos @erinscafe xxmaj bu i do . i do hate the playa . xxmaj and the xxmaj yankees . xxmaj if i hate the xxmaj yankees for their xxunk i have to hate</td>\n",
       "    </tr>\n",
       "    <tr>\n",
       "      <th>2</th>\n",
       "      <td>bitches 😁 xxbos @delaney_guinan you did a good job doing that to me and not texting back faggot xxbos xxmaj gabby is back bitches step aside xxbos xxup rt @idntwearcondoms : xxmaj if your girl see that another girl likes you , her name is \" this bitch \" until further notice . xxbos \" we hate niggers , we hate faggots and we hate xxunk xxrep 3 k rally xxbos trust</td>\n",
       "      <td>😁 xxbos @delaney_guinan you did a good job doing that to me and not texting back faggot xxbos xxmaj gabby is back bitches step aside xxbos xxup rt @idntwearcondoms : xxmaj if your girl see that another girl likes you , her name is \" this bitch \" until further notice . xxbos \" we hate niggers , we hate faggots and we hate xxunk xxrep 3 k rally xxbos trust me</td>\n",
       "    </tr>\n",
       "  </tbody>\n",
       "</table>"
      ],
      "text/plain": [
       "<IPython.core.display.HTML object>"
      ]
     },
     "metadata": {},
     "output_type": "display_data"
    }
   ],
   "source": [
    "dls_lm.show_batch(max_n=3)\n"
   ]
  },
  {
   "cell_type": "code",
   "execution_count": 15,
   "metadata": {
    "execution": {
     "iopub.execute_input": "2021-03-13T10:45:28.000453Z",
     "iopub.status.busy": "2021-03-13T10:45:27.990874Z",
     "iopub.status.idle": "2021-03-13T10:45:34.835673Z",
     "shell.execute_reply": "2021-03-13T10:45:34.835180Z"
    },
    "papermill": {
     "duration": 6.8978,
     "end_time": "2021-03-13T10:45:34.835795",
     "exception": false,
     "start_time": "2021-03-13T10:45:27.937995",
     "status": "completed"
    },
    "pycharm": {
     "name": "#%%\n"
    },
    "tags": []
   },
   "outputs": [],
   "source": [
    "\n",
    "learn = language_model_learner(\n",
    "    dls_lm, AWD_LSTM,\n",
    "    metrics=[accuracy, Perplexity()]).to_fp16()"
   ]
  },
  {
   "cell_type": "markdown",
   "metadata": {
    "papermill": {
     "duration": 0.029277,
     "end_time": "2021-03-13T10:45:34.895037",
     "exception": false,
     "start_time": "2021-03-13T10:45:34.865760",
     "status": "completed"
    },
    "pycharm": {
     "name": "#%% md\n"
    },
    "tags": []
   },
   "source": [
    "### Determining the best learning rate as in Leslie Smith paper"
   ]
  },
  {
   "cell_type": "code",
   "execution_count": 16,
   "metadata": {
    "execution": {
     "iopub.execute_input": "2021-03-13T10:45:34.961370Z",
     "iopub.status.busy": "2021-03-13T10:45:34.958628Z",
     "iopub.status.idle": "2021-03-13T10:46:05.427781Z",
     "shell.execute_reply": "2021-03-13T10:46:05.428220Z"
    },
    "papermill": {
     "duration": 30.503455,
     "end_time": "2021-03-13T10:46:05.428361",
     "exception": false,
     "start_time": "2021-03-13T10:45:34.924906",
     "status": "completed"
    },
    "pycharm": {
     "name": "#%%\n"
    },
    "tags": []
   },
   "outputs": [
    {
     "data": {
      "text/html": [
       "\n",
       "<style>\n",
       "    /* Turns off some styling */\n",
       "    progress {\n",
       "        /* gets rid of default border in Firefox and Opera. */\n",
       "        border: none;\n",
       "        /* Needs to be in here for Safari polyfill so background images work as expected. */\n",
       "        background-size: auto;\n",
       "    }\n",
       "    .progress-bar-interrupted, .progress-bar-interrupted::-webkit-progress-bar {\n",
       "        background: #F44336;\n",
       "    }\n",
       "</style>\n"
      ],
      "text/plain": [
       "<IPython.core.display.HTML object>"
      ]
     },
     "metadata": {},
     "output_type": "display_data"
    },
    {
     "data": {
      "text/html": [],
      "text/plain": [
       "<IPython.core.display.HTML object>"
      ]
     },
     "metadata": {},
     "output_type": "display_data"
    },
    {
     "data": {
      "text/plain": [
       "SuggestedLRs(valley=0.005248074419796467)"
      ]
     },
     "execution_count": 16,
     "metadata": {},
     "output_type": "execute_result"
    },
    {
     "data": {
      "image/png": "[encoded data removed]",
      "text/plain": [
       "<Figure size 432x288 with 1 Axes>"
      ]
     },
     "metadata": {
      "needs_background": "light"
     },
     "output_type": "display_data"
    }
   ],
   "source": [
    "learn.lr_find()\n"
   ]
  },
  {
   "cell_type": "code",
   "execution_count": 17,
   "metadata": {
    "execution": {
     "iopub.execute_input": "2021-03-13T10:46:05.494231Z",
     "iopub.status.busy": "2021-03-13T10:46:05.493012Z",
     "iopub.status.idle": "2021-03-13T10:46:37.163771Z",
     "shell.execute_reply": "2021-03-13T10:46:37.164494Z"
    },
    "papermill": {
     "duration": 31.705505,
     "end_time": "2021-03-13T10:46:37.164667",
     "exception": false,
     "start_time": "2021-03-13T10:46:05.459162",
     "status": "completed"
    },
    "pycharm": {
     "name": "#%%\n"
    },
    "tags": []
   },
   "outputs": [
    {
     "data": {
      "text/html": [
       "\n",
       "<style>\n",
       "    /* Turns off some styling */\n",
       "    progress {\n",
       "        /* gets rid of default border in Firefox and Opera. */\n",
       "        border: none;\n",
       "        /* Needs to be in here for Safari polyfill so background images work as expected. */\n",
       "        background-size: auto;\n",
       "    }\n",
       "    .progress-bar-interrupted, .progress-bar-interrupted::-webkit-progress-bar {\n",
       "        background: #F44336;\n",
       "    }\n",
       "</style>\n"
      ],
      "text/plain": [
       "<IPython.core.display.HTML object>"
      ]
     },
     "metadata": {},
     "output_type": "display_data"
    },
    {
     "data": {
      "text/html": [
       "<table border=\"1\" class=\"dataframe\">\n",
       "  <thead>\n",
       "    <tr style=\"text-align: left;\">\n",
       "      <th>epoch</th>\n",
       "      <th>train_loss</th>\n",
       "      <th>valid_loss</th>\n",
       "      <th>accuracy</th>\n",
       "      <th>perplexity</th>\n",
       "      <th>time</th>\n",
       "    </tr>\n",
       "  </thead>\n",
       "  <tbody>\n",
       "    <tr>\n",
       "      <td>0</td>\n",
       "      <td>4.846530</td>\n",
       "      <td>4.396165</td>\n",
       "      <td>0.260247</td>\n",
       "      <td>81.139091</td>\n",
       "      <td>01:39</td>\n",
       "    </tr>\n",
       "  </tbody>\n",
       "</table>"
      ],
      "text/plain": [
       "<IPython.core.display.HTML object>"
      ]
     },
     "metadata": {},
     "output_type": "display_data"
    }
   ],
   "source": [
    "learn.fit_one_cycle(1, 1e-2)\n"
   ]
  },
  {
   "cell_type": "code",
   "execution_count": 18,
   "metadata": {
    "execution": {
     "iopub.execute_input": "2021-03-13T10:46:37.237890Z",
     "iopub.status.busy": "2021-03-13T10:46:37.237106Z",
     "iopub.status.idle": "2021-03-13T10:46:37.455588Z",
     "shell.execute_reply": "2021-03-13T10:46:37.456017Z"
    },
    "papermill": {
     "duration": 0.256189,
     "end_time": "2021-03-13T10:46:37.456167",
     "exception": false,
     "start_time": "2021-03-13T10:46:37.199978",
     "status": "completed"
    },
    "pycharm": {
     "name": "#%%\n"
    },
    "tags": []
   },
   "outputs": [
    {
     "data": {
      "text/plain": [
       "Path('models/1epoch.pth')"
      ]
     },
     "execution_count": 18,
     "metadata": {},
     "output_type": "execute_result"
    }
   ],
   "source": [
    "learn.save('1epoch')\n"
   ]
  },
  {
   "cell_type": "code",
   "execution_count": 19,
   "metadata": {
    "execution": {
     "iopub.execute_input": "2021-03-13T10:46:37.529870Z",
     "iopub.status.busy": "2021-03-13T10:46:37.529009Z",
     "iopub.status.idle": "2021-03-13T10:47:06.911877Z",
     "shell.execute_reply": "2021-03-13T10:47:06.911164Z"
    },
    "papermill": {
     "duration": 29.421722,
     "end_time": "2021-03-13T10:47:06.912062",
     "exception": false,
     "start_time": "2021-03-13T10:46:37.490340",
     "status": "completed"
    },
    "pycharm": {
     "name": "#%%\n"
    },
    "tags": []
   },
   "outputs": [
    {
     "data": {
      "text/html": [
       "\n",
       "<style>\n",
       "    /* Turns off some styling */\n",
       "    progress {\n",
       "        /* gets rid of default border in Firefox and Opera. */\n",
       "        border: none;\n",
       "        /* Needs to be in here for Safari polyfill so background images work as expected. */\n",
       "        background-size: auto;\n",
       "    }\n",
       "    .progress-bar-interrupted, .progress-bar-interrupted::-webkit-progress-bar {\n",
       "        background: #F44336;\n",
       "    }\n",
       "</style>\n"
      ],
      "text/plain": [
       "<IPython.core.display.HTML object>"
      ]
     },
     "metadata": {},
     "output_type": "display_data"
    },
    {
     "data": {
      "text/html": [],
      "text/plain": [
       "<IPython.core.display.HTML object>"
      ]
     },
     "metadata": {},
     "output_type": "display_data"
    },
    {
     "data": {
      "text/plain": [
       "SuggestedLRs(valley=0.0063095735386013985)"
      ]
     },
     "execution_count": 19,
     "metadata": {},
     "output_type": "execute_result"
    },
    {
     "data": {
      "image/png": "[encoded data removed]",
      "text/plain": [
       "<Figure size 432x288 with 1 Axes>"
      ]
     },
     "metadata": {
      "needs_background": "light"
     },
     "output_type": "display_data"
    }
   ],
   "source": [
    "learn.lr_find()\n"
   ]
  },
  {
   "cell_type": "code",
   "execution_count": 20,
   "metadata": {
    "execution": {
     "iopub.execute_input": "2021-03-13T10:47:07.031856Z",
     "iopub.status.busy": "2021-03-13T10:47:07.031118Z",
     "iopub.status.idle": "2021-03-13T10:52:51.052852Z",
     "shell.execute_reply": "2021-03-13T10:52:51.051427Z"
    },
    "papermill": {
     "duration": 344.085496,
     "end_time": "2021-03-13T10:52:51.053005",
     "exception": false,
     "start_time": "2021-03-13T10:47:06.967509",
     "status": "completed"
    },
    "pycharm": {
     "name": "#%%\n"
    },
    "tags": []
   },
   "outputs": [
    {
     "data": {
      "text/html": [
       "\n",
       "<style>\n",
       "    /* Turns off some styling */\n",
       "    progress {\n",
       "        /* gets rid of default border in Firefox and Opera. */\n",
       "        border: none;\n",
       "        /* Needs to be in here for Safari polyfill so background images work as expected. */\n",
       "        background-size: auto;\n",
       "    }\n",
       "    .progress-bar-interrupted, .progress-bar-interrupted::-webkit-progress-bar {\n",
       "        background: #F44336;\n",
       "    }\n",
       "</style>\n"
      ],
      "text/plain": [
       "<IPython.core.display.HTML object>"
      ]
     },
     "metadata": {},
     "output_type": "display_data"
    },
    {
     "data": {
      "text/html": [
       "<table border=\"1\" class=\"dataframe\">\n",
       "  <thead>\n",
       "    <tr style=\"text-align: left;\">\n",
       "      <th>epoch</th>\n",
       "      <th>train_loss</th>\n",
       "      <th>valid_loss</th>\n",
       "      <th>accuracy</th>\n",
       "      <th>perplexity</th>\n",
       "      <th>time</th>\n",
       "    </tr>\n",
       "  </thead>\n",
       "  <tbody>\n",
       "    <tr>\n",
       "      <td>0</td>\n",
       "      <td>4.465878</td>\n",
       "      <td>4.270449</td>\n",
       "      <td>0.272953</td>\n",
       "      <td>71.553764</td>\n",
       "      <td>02:11</td>\n",
       "    </tr>\n",
       "    <tr>\n",
       "      <td>1</td>\n",
       "      <td>4.302573</td>\n",
       "      <td>4.130999</td>\n",
       "      <td>0.284397</td>\n",
       "      <td>62.240074</td>\n",
       "      <td>02:13</td>\n",
       "    </tr>\n",
       "    <tr>\n",
       "      <td>2</td>\n",
       "      <td>4.126461</td>\n",
       "      <td>4.050247</td>\n",
       "      <td>0.293500</td>\n",
       "      <td>57.411621</td>\n",
       "      <td>02:15</td>\n",
       "    </tr>\n",
       "    <tr>\n",
       "      <td>3</td>\n",
       "      <td>3.970782</td>\n",
       "      <td>4.013947</td>\n",
       "      <td>0.298550</td>\n",
       "      <td>55.364941</td>\n",
       "      <td>02:17</td>\n",
       "    </tr>\n",
       "    <tr>\n",
       "      <td>4</td>\n",
       "      <td>3.856567</td>\n",
       "      <td>4.002492</td>\n",
       "      <td>0.298853</td>\n",
       "      <td>54.734375</td>\n",
       "      <td>02:16</td>\n",
       "    </tr>\n",
       "    <tr>\n",
       "      <td>5</td>\n",
       "      <td>3.728352</td>\n",
       "      <td>3.999432</td>\n",
       "      <td>0.301953</td>\n",
       "      <td>54.567165</td>\n",
       "      <td>02:18</td>\n",
       "    </tr>\n",
       "    <tr>\n",
       "      <td>6</td>\n",
       "      <td>3.637755</td>\n",
       "      <td>3.993785</td>\n",
       "      <td>0.304427</td>\n",
       "      <td>54.259869</td>\n",
       "      <td>02:19</td>\n",
       "    </tr>\n",
       "    <tr>\n",
       "      <td>7</td>\n",
       "      <td>3.552158</td>\n",
       "      <td>3.997738</td>\n",
       "      <td>0.304818</td>\n",
       "      <td>54.474770</td>\n",
       "      <td>02:25</td>\n",
       "    </tr>\n",
       "    <tr>\n",
       "      <td>8</td>\n",
       "      <td>3.495354</td>\n",
       "      <td>3.999836</td>\n",
       "      <td>0.306084</td>\n",
       "      <td>54.589207</td>\n",
       "      <td>02:30</td>\n",
       "    </tr>\n",
       "    <tr>\n",
       "      <td>9</td>\n",
       "      <td>3.461251</td>\n",
       "      <td>4.001151</td>\n",
       "      <td>0.306482</td>\n",
       "      <td>54.661007</td>\n",
       "      <td>02:32</td>\n",
       "    </tr>\n",
       "  </tbody>\n",
       "</table>"
      ],
      "text/plain": [
       "<IPython.core.display.HTML object>"
      ]
     },
     "metadata": {},
     "output_type": "display_data"
    }
   ],
   "source": [
    "learn.unfreeze()\n",
    "learn.fit_one_cycle(10,lr_max=slice(1e-5,1e-2))"
   ]
  },
  {
   "cell_type": "markdown",
   "metadata": {
    "papermill": {
     "duration": 0.033975,
     "end_time": "2021-03-13T10:52:51.124108",
     "exception": false,
     "start_time": "2021-03-13T10:52:51.090133",
     "status": "completed"
    },
    "pycharm": {
     "name": "#%% md\n"
    },
    "tags": []
   },
   "source": [
    "### The language model is 30 % accurate. Lets save our encoder"
   ]
  },
  {
   "cell_type": "code",
   "execution_count": 21,
   "metadata": {
    "execution": {
     "iopub.execute_input": "2021-03-13T10:52:51.198433Z",
     "iopub.status.busy": "2021-03-13T10:52:51.197043Z",
     "iopub.status.idle": "2021-03-13T10:52:51.370234Z",
     "shell.execute_reply": "2021-03-13T10:52:51.369649Z"
    },
    "papermill": {
     "duration": 0.211422,
     "end_time": "2021-03-13T10:52:51.370368",
     "exception": false,
     "start_time": "2021-03-13T10:52:51.158946",
     "status": "completed"
    },
    "pycharm": {
     "name": "#%%\n"
    },
    "tags": []
   },
   "outputs": [],
   "source": [
    "learn.save_encoder('finetuned')\n"
   ]
  },
  {
   "cell_type": "markdown",
   "metadata": {
    "papermill": {
     "duration": 0.034259,
     "end_time": "2021-03-13T10:52:51.438562",
     "exception": false,
     "start_time": "2021-03-13T10:52:51.404303",
     "status": "completed"
    },
    "pycharm": {
     "name": "#%% md\n"
    },
    "tags": []
   },
   "source": [
    "## Let's predict some tweets"
   ]
  },
  {
   "cell_type": "code",
   "execution_count": 22,
   "metadata": {
    "execution": {
     "iopub.execute_input": "2021-03-13T10:52:51.511595Z",
     "iopub.status.busy": "2021-03-13T10:52:51.510785Z",
     "iopub.status.idle": "2021-03-13T10:52:51.753615Z",
     "shell.execute_reply": "2021-03-13T10:52:51.753200Z"
    },
    "papermill": {
     "duration": 0.280966,
     "end_time": "2021-03-13T10:52:51.753737",
     "exception": false,
     "start_time": "2021-03-13T10:52:51.472771",
     "status": "completed"
    },
    "pycharm": {
     "name": "#%%\n"
    },
    "tags": []
   },
   "outputs": [
    {
     "data": {
      "text/html": [
       "\n",
       "<style>\n",
       "    /* Turns off some styling */\n",
       "    progress {\n",
       "        /* gets rid of default border in Firefox and Opera. */\n",
       "        border: none;\n",
       "        /* Needs to be in here for Safari polyfill so background images work as expected. */\n",
       "        background-size: auto;\n",
       "    }\n",
       "    .progress-bar-interrupted, .progress-bar-interrupted::-webkit-progress-bar {\n",
       "        background: #F44336;\n",
       "    }\n",
       "</style>\n"
      ],
      "text/plain": [
       "<IPython.core.display.HTML object>"
      ]
     },
     "metadata": {},
     "output_type": "display_data"
    },
    {
     "data": {
      "text/html": [],
      "text/plain": [
       "<IPython.core.display.HTML object>"
      ]
     },
     "metadata": {},
     "output_type": "display_data"
    },
    {
     "data": {
      "text/html": [
       "\n",
       "<style>\n",
       "    /* Turns off some styling */\n",
       "    progress {\n",
       "        /* gets rid of default border in Firefox and Opera. */\n",
       "        border: none;\n",
       "        /* Needs to be in here for Safari polyfill so background images work as expected. */\n",
       "        background-size: auto;\n",
       "    }\n",
       "    .progress-bar-interrupted, .progress-bar-interrupted::-webkit-progress-bar {\n",
       "        background: #F44336;\n",
       "    }\n",
       "</style>\n"
      ],
      "text/plain": [
       "<IPython.core.display.HTML object>"
      ]
     },
     "metadata": {},
     "output_type": "display_data"
    },
    {
     "data": {
      "text/html": [],
      "text/plain": [
       "<IPython.core.display.HTML object>"
      ]
     },
     "metadata": {},
     "output_type": "display_data"
    }
   ],
   "source": [
    "TEXT = \"i\"\n",
    "N_WORDS = 10\n",
    "N_SENTENCES = 2\n",
    "preds = [learn.predict(TEXT, N_WORDS, temperature=0.75) \n",
    "         for _ in range(N_SENTENCES)]\n"
   ]
  },
  {
   "cell_type": "code",
   "execution_count": 23,
   "metadata": {
    "execution": {
     "iopub.execute_input": "2021-03-13T10:52:51.836272Z",
     "iopub.status.busy": "2021-03-13T10:52:51.835595Z",
     "iopub.status.idle": "2021-03-13T10:52:51.839300Z",
     "shell.execute_reply": "2021-03-13T10:52:51.839962Z"
    },
    "papermill": {
     "duration": 0.048316,
     "end_time": "2021-03-13T10:52:51.840179",
     "exception": false,
     "start_time": "2021-03-13T10:52:51.791863",
     "status": "completed"
    },
    "pycharm": {
     "name": "#%%\n"
    },
    "tags": []
   },
   "outputs": [
    {
     "name": "stdout",
     "output_type": "stream",
     "text": [
      "i think it 's how you can show a bitch that\n",
      "i have a bad bitch , i m lowkey free\n"
     ]
    }
   ],
   "source": [
    "print(\"\\n\".join(preds))\n"
   ]
  },
  {
   "cell_type": "markdown",
   "metadata": {
    "papermill": {
     "duration": 0.035063,
     "end_time": "2021-03-13T10:52:51.913522",
     "exception": false,
     "start_time": "2021-03-13T10:52:51.878459",
     "status": "completed"
    },
    "pycharm": {
     "name": "#%% md\n"
    },
    "tags": []
   },
   "source": [
    "## The data is heavily biased towards offensive tweets. Hence we randomly take 3000 tweets from each category"
   ]
  },
  {
   "cell_type": "code",
   "execution_count": 24,
   "metadata": {
    "execution": {
     "iopub.execute_input": "2021-03-13T10:52:51.996745Z",
     "iopub.status.busy": "2021-03-13T10:52:51.995967Z",
     "iopub.status.idle": "2021-03-13T10:52:51.999795Z",
     "shell.execute_reply": "2021-03-13T10:52:51.999277Z"
    },
    "papermill": {
     "duration": 0.050792,
     "end_time": "2021-03-13T10:52:51.999943",
     "exception": false,
     "start_time": "2021-03-13T10:52:51.949151",
     "status": "completed"
    },
    "pycharm": {
     "name": "#%%\n"
    },
    "tags": []
   },
   "outputs": [
    {
     "data": {
      "text/plain": [
       "offensive    19190\n",
       "neither       4163\n",
       "hate          1430\n",
       "Name: label, dtype: int64"
      ]
     },
     "execution_count": 24,
     "metadata": {},
     "output_type": "execute_result"
    }
   ],
   "source": [
    "df['label'].value_counts()"
   ]
  },
  {
   "cell_type": "code",
   "execution_count": 25,
   "metadata": {
    "execution": {
     "iopub.execute_input": "2021-03-13T10:52:52.080722Z",
     "iopub.status.busy": "2021-03-13T10:52:52.080058Z",
     "iopub.status.idle": "2021-03-13T10:52:52.091633Z",
     "shell.execute_reply": "2021-03-13T10:52:52.091199Z"
    },
    "papermill": {
     "duration": 0.055438,
     "end_time": "2021-03-13T10:52:52.091739",
     "exception": false,
     "start_time": "2021-03-13T10:52:52.036301",
     "status": "completed"
    },
    "pycharm": {
     "name": "#%%\n"
    },
    "tags": []
   },
   "outputs": [],
   "source": [
    "df_offensive = df[df.label== 'offensive']\n",
    "df_hate = df[df.label== 'hate']\n",
    "df_neither=df[df.label=='neither']"
   ]
  },
  {
   "cell_type": "code",
   "execution_count": 26,
   "metadata": {
    "execution": {
     "iopub.execute_input": "2021-03-13T10:52:52.171483Z",
     "iopub.status.busy": "2021-03-13T10:52:52.170862Z",
     "iopub.status.idle": "2021-03-13T10:52:52.174001Z",
     "shell.execute_reply": "2021-03-13T10:52:52.173463Z"
    },
    "papermill": {
     "duration": 0.046123,
     "end_time": "2021-03-13T10:52:52.174112",
     "exception": false,
     "start_time": "2021-03-13T10:52:52.127989",
     "status": "completed"
    },
    "pycharm": {
     "name": "#%%\n"
    },
    "tags": []
   },
   "outputs": [],
   "source": [
    "rows1 = np.random.choice(df_offensive.index.values, 1000)\n",
    "rows2 = np.random.choice(df_hate.index.values, 1000)\n",
    "rows3 = np.random.choice(df_neither.index.values, 1000)\n",
    "\n"
   ]
  },
  {
   "cell_type": "code",
   "execution_count": 27,
   "metadata": {
    "execution": {
     "iopub.execute_input": "2021-03-13T10:52:52.250462Z",
     "iopub.status.busy": "2021-03-13T10:52:52.249675Z",
     "iopub.status.idle": "2021-03-13T10:52:52.255152Z",
     "shell.execute_reply": "2021-03-13T10:52:52.254716Z"
    },
    "papermill": {
     "duration": 0.04477,
     "end_time": "2021-03-13T10:52:52.255261",
     "exception": false,
     "start_time": "2021-03-13T10:52:52.210491",
     "status": "completed"
    },
    "pycharm": {
     "name": "#%%\n"
    },
    "tags": []
   },
   "outputs": [],
   "source": [
    "df_offensive = df_offensive.loc[rows1]\n",
    "df_hate = df_hate.loc[rows2]\n",
    "df_neither=df_neither.loc[rows3]"
   ]
  },
  {
   "cell_type": "code",
   "execution_count": 28,
   "metadata": {
    "execution": {
     "iopub.execute_input": "2021-03-13T10:52:52.340092Z",
     "iopub.status.busy": "2021-03-13T10:52:52.339222Z",
     "iopub.status.idle": "2021-03-13T10:52:52.343298Z",
     "shell.execute_reply": "2021-03-13T10:52:52.342788Z"
    },
    "papermill": {
     "duration": 0.052079,
     "end_time": "2021-03-13T10:52:52.343400",
     "exception": false,
     "start_time": "2021-03-13T10:52:52.291321",
     "status": "completed"
    },
    "pycharm": {
     "name": "#%%\n"
    },
    "tags": []
   },
   "outputs": [
    {
     "data": {
      "text/html": [
       "<div>\n",
       "<style scoped>\n",
       "    .dataframe tbody tr th:only-of-type {\n",
       "        vertical-align: middle;\n",
       "    }\n",
       "\n",
       "    .dataframe tbody tr th {\n",
       "        vertical-align: top;\n",
       "    }\n",
       "\n",
       "    .dataframe thead th {\n",
       "        text-align: right;\n",
       "    }\n",
       "</style>\n",
       "<table border=\"1\" class=\"dataframe\">\n",
       "  <thead>\n",
       "    <tr style=\"text-align: right;\">\n",
       "      <th></th>\n",
       "      <th>tweet</th>\n",
       "      <th>label</th>\n",
       "    </tr>\n",
       "  </thead>\n",
       "  <tbody>\n",
       "    <tr>\n",
       "      <th>17445</th>\n",
       "      <td>RT @SteveStfler: ur a faggot if you change your name to your bday just so you can get bday tweets. this aint FB nigga, fuck yo birthday</td>\n",
       "      <td>hate</td>\n",
       "    </tr>\n",
       "    <tr>\n",
       "      <th>6091</th>\n",
       "      <td>@heyrmbr probs that fag Vhia</td>\n",
       "      <td>hate</td>\n",
       "    </tr>\n",
       "    <tr>\n",
       "      <th>22153</th>\n",
       "      <td>This time a night dark skin niggas really turn into lightskin niggas I swear I seen a darkie try buying Starbucks 3mins ago but they closed</td>\n",
       "      <td>hate</td>\n",
       "    </tr>\n",
       "    <tr>\n",
       "      <th>3407</th>\n",
       "      <td>@HuffingtonPost if the faggots can have a page y cant they?faggots offend me more than them</td>\n",
       "      <td>hate</td>\n",
       "    </tr>\n",
       "    <tr>\n",
       "      <th>5511</th>\n",
       "      <td>@alyssawiens faggot</td>\n",
       "      <td>hate</td>\n",
       "    </tr>\n",
       "    <tr>\n",
       "      <th>...</th>\n",
       "      <td>...</td>\n",
       "      <td>...</td>\n",
       "    </tr>\n",
       "    <tr>\n",
       "      <th>17264</th>\n",
       "      <td>RT @Shakestweetz: Friends of @philbarron: @javachik has let me know that Phil is very ill. His infection has gone septic, and he is fightin&amp;#8230;</td>\n",
       "      <td>neither</td>\n",
       "    </tr>\n",
       "    <tr>\n",
       "      <th>16114</th>\n",
       "      <td>RT @LJSpagnoli: Isis and Jihadi Terrorists 'Post 90 Tweets Every Minute' to Spread Propaganda http://t.co/eRJMveF996</td>\n",
       "      <td>neither</td>\n",
       "    </tr>\n",
       "    <tr>\n",
       "      <th>1968</th>\n",
       "      <td>&amp;#9733; BEST ASIAN MASSAGE ON THE Brooklyn Park slope --TOP RATED SPA &amp;#9733;718-622-0221 - 24 http://t.co/saWpjDtIGN</td>\n",
       "      <td>neither</td>\n",
       "    </tr>\n",
       "    <tr>\n",
       "      <th>4593</th>\n",
       "      <td>@RylannWilliams ok chill love bird lol</td>\n",
       "      <td>neither</td>\n",
       "    </tr>\n",
       "    <tr>\n",
       "      <th>8773</th>\n",
       "      <td>Dominoes, moonlit lake, Velvet Underground, honey whiskey = white trash heaven. I accept your ridicule...but just tonight.</td>\n",
       "      <td>neither</td>\n",
       "    </tr>\n",
       "  </tbody>\n",
       "</table>\n",
       "<p>3000 rows × 2 columns</p>\n",
       "</div>"
      ],
      "text/plain": [
       "                                                                                                                                                    tweet  \\\n",
       "17445             RT @SteveStfler: ur a faggot if you change your name to your bday just so you can get bday tweets. this aint FB nigga, fuck yo birthday   \n",
       "6091                                                                                                                         @heyrmbr probs that fag Vhia   \n",
       "22153         This time a night dark skin niggas really turn into lightskin niggas I swear I seen a darkie try buying Starbucks 3mins ago but they closed   \n",
       "3407                                                          @HuffingtonPost if the faggots can have a page y cant they?faggots offend me more than them   \n",
       "5511                                                                                                                                  @alyssawiens faggot   \n",
       "...                                                                                                                                                   ...   \n",
       "17264  RT @Shakestweetz: Friends of @philbarron: @javachik has let me know that Phil is very ill. His infection has gone septic, and he is fightin&#8230;   \n",
       "16114                                RT @LJSpagnoli: Isis and Jihadi Terrorists 'Post 90 Tweets Every Minute' to Spread Propaganda http://t.co/eRJMveF996   \n",
       "1968                                &#9733; BEST ASIAN MASSAGE ON THE Brooklyn Park slope --TOP RATED SPA &#9733;718-622-0221 - 24 http://t.co/saWpjDtIGN   \n",
       "4593                                                                                                               @RylannWilliams ok chill love bird lol   \n",
       "8773                           Dominoes, moonlit lake, Velvet Underground, honey whiskey = white trash heaven. I accept your ridicule...but just tonight.   \n",
       "\n",
       "         label  \n",
       "17445     hate  \n",
       "6091      hate  \n",
       "22153     hate  \n",
       "3407      hate  \n",
       "5511      hate  \n",
       "...        ...  \n",
       "17264  neither  \n",
       "16114  neither  \n",
       "1968   neither  \n",
       "4593   neither  \n",
       "8773   neither  \n",
       "\n",
       "[3000 rows x 2 columns]"
      ]
     },
     "execution_count": 28,
     "metadata": {},
     "output_type": "execute_result"
    }
   ],
   "source": [
    "li=[df_hate,df_offensive,df_neither]\n",
    "df_new=pd.concat(li)\n",
    "df_new"
   ]
  },
  {
   "cell_type": "markdown",
   "metadata": {
    "papermill": {
     "duration": 0.052991,
     "end_time": "2021-03-13T10:52:52.433196",
     "exception": false,
     "start_time": "2021-03-13T10:52:52.380205",
     "status": "completed"
    },
    "pycharm": {
     "name": "#%% md\n"
    },
    "tags": []
   },
   "source": [
    "## Creating Dataloaders for Classification"
   ]
  },
  {
   "cell_type": "code",
   "execution_count": 29,
   "metadata": {
    "execution": {
     "iopub.execute_input": "2021-03-13T10:52:52.559488Z",
     "iopub.status.busy": "2021-03-13T10:52:52.521051Z",
     "iopub.status.idle": "2021-03-13T10:52:57.695891Z",
     "shell.execute_reply": "2021-03-13T10:52:57.694764Z"
    },
    "papermill": {
     "duration": 5.225495,
     "end_time": "2021-03-13T10:52:57.696036",
     "exception": false,
     "start_time": "2021-03-13T10:52:52.470541",
     "status": "completed"
    },
    "pycharm": {
     "name": "#%%\n"
    },
    "tags": []
   },
   "outputs": [
    {
     "data": {
      "text/html": [
       "\n",
       "<style>\n",
       "    /* Turns off some styling */\n",
       "    progress {\n",
       "        /* gets rid of default border in Firefox and Opera. */\n",
       "        border: none;\n",
       "        /* Needs to be in here for Safari polyfill so background images work as expected. */\n",
       "        background-size: auto;\n",
       "    }\n",
       "    .progress-bar-interrupted, .progress-bar-interrupted::-webkit-progress-bar {\n",
       "        background: #F44336;\n",
       "    }\n",
       "</style>\n"
      ],
      "text/plain": [
       "<IPython.core.display.HTML object>"
      ]
     },
     "metadata": {},
     "output_type": "display_data"
    },
    {
     "data": {
      "text/html": [],
      "text/plain": [
       "<IPython.core.display.HTML object>"
      ]
     },
     "metadata": {},
     "output_type": "display_data"
    }
   ],
   "source": [
    "dls = TextDataLoaders.from_df(df_new, text_col='tweet', label_col='label',valid_pct=0.1,text_vocab=dls_lm.vocab)\n"
   ]
  },
  {
   "cell_type": "code",
   "execution_count": 30,
   "metadata": {
    "execution": {
     "iopub.execute_input": "2021-03-13T10:52:57.779527Z",
     "iopub.status.busy": "2021-03-13T10:52:57.778693Z",
     "iopub.status.idle": "2021-03-13T10:52:57.869093Z",
     "shell.execute_reply": "2021-03-13T10:52:57.868649Z"
    },
    "papermill": {
     "duration": 0.134221,
     "end_time": "2021-03-13T10:52:57.869220",
     "exception": false,
     "start_time": "2021-03-13T10:52:57.734999",
     "status": "completed"
    },
    "pycharm": {
     "name": "#%%\n"
    },
    "tags": []
   },
   "outputs": [
    {
     "data": {
      "text/html": [
       "<table border=\"1\" class=\"dataframe\">\n",
       "  <thead>\n",
       "    <tr style=\"text-align: right;\">\n",
       "      <th></th>\n",
       "      <th>text</th>\n",
       "      <th>category</th>\n",
       "    </tr>\n",
       "  </thead>\n",
       "  <tbody>\n",
       "    <tr>\n",
       "      <th>0</th>\n",
       "      <td>xxbos xxup rt xxunk : xxmaj d - xxunk \\n xxmaj e - xxunk 's \\n xxmaj m - xxunk &amp; &amp; \\n xxmaj o - xxunk \\n xxmaj c - xxunk be \\n xxmaj r - xxunk \\n xxmaj a - mong \\n xxmaj t - xxunk \\n xxmaj s - xxunk</td>\n",
       "      <td>neither</td>\n",
       "    </tr>\n",
       "    <tr>\n",
       "      <th>1</th>\n",
       "      <td>xxbos xxup rt xxunk : xxunk \\n 1 ) xxmaj we are not the xxmaj cubs \\n 2 ) xxmaj we are not the xxmaj pirates \\n 3 ) xxmaj we damn sure ai n't no f xxrep 3 * ing xxmaj cardinals . \\n\\n xxmaj who cares abo …</td>\n",
       "      <td>offensive</td>\n",
       "    </tr>\n",
       "    <tr>\n",
       "      <th>2</th>\n",
       "      <td>xxbos xxup diversity : xxmaj xxunk xxmaj xxunk xxmaj xxunk xxmaj xxunk w / xxmaj xxunk xxmaj threats xxmaj xxunk xxmaj xxunk xxmaj of xxup gop xxmaj candidate : “ u xxmaj sellout xxmaj uncle xxmaj tom xxmaj ass xxmaj xxunk ” http : / / t.co / xxunk</td>\n",
       "      <td>hate</td>\n",
       "    </tr>\n",
       "  </tbody>\n",
       "</table>"
      ],
      "text/plain": [
       "<IPython.core.display.HTML object>"
      ]
     },
     "metadata": {},
     "output_type": "display_data"
    }
   ],
   "source": [
    "dls.show_batch(max_n=3)\n"
   ]
  },
  {
   "cell_type": "markdown",
   "metadata": {
    "papermill": {
     "duration": 0.037928,
     "end_time": "2021-03-13T10:52:57.946138",
     "exception": false,
     "start_time": "2021-03-13T10:52:57.908210",
     "status": "completed"
    },
    "pycharm": {
     "name": "#%% md\n"
    },
    "tags": []
   },
   "source": [
    "# Creating our learner "
   ]
  },
  {
   "cell_type": "code",
   "execution_count": 31,
   "metadata": {
    "execution": {
     "iopub.execute_input": "2021-03-13T10:52:58.028832Z",
     "iopub.status.busy": "2021-03-13T10:52:58.028153Z",
     "iopub.status.idle": "2021-03-13T10:52:58.612245Z",
     "shell.execute_reply": "2021-03-13T10:52:58.612731Z"
    },
    "papermill": {
     "duration": 0.627969,
     "end_time": "2021-03-13T10:52:58.612950",
     "exception": false,
     "start_time": "2021-03-13T10:52:57.984981",
     "status": "completed"
    },
    "pycharm": {
     "name": "#%%\n"
    },
    "tags": []
   },
   "outputs": [],
   "source": [
    "learn = text_classifier_learner(dls,AWD_LSTM,metrics=accuracy,\n",
    "                                drop_mult=0.5).to_fp16()\n"
   ]
  },
  {
   "cell_type": "code",
   "execution_count": 32,
   "metadata": {
    "execution": {
     "iopub.execute_input": "2021-03-13T10:52:58.754974Z",
     "iopub.status.busy": "2021-03-13T10:52:58.754159Z",
     "iopub.status.idle": "2021-03-13T10:52:58.837443Z",
     "shell.execute_reply": "2021-03-13T10:52:58.838637Z"
    },
    "papermill": {
     "duration": 0.155004,
     "end_time": "2021-03-13T10:52:58.838884",
     "exception": false,
     "start_time": "2021-03-13T10:52:58.683880",
     "status": "completed"
    },
    "pycharm": {
     "name": "#%%\n"
    },
    "tags": []
   },
   "outputs": [],
   "source": [
    "learn = learn.load_encoder('finetuned')\n"
   ]
  },
  {
   "cell_type": "code",
   "execution_count": 33,
   "metadata": {
    "execution": {
     "iopub.execute_input": "2021-03-13T10:52:58.980926Z",
     "iopub.status.busy": "2021-03-13T10:52:58.979993Z",
     "iopub.status.idle": "2021-03-13T10:53:07.332438Z",
     "shell.execute_reply": "2021-03-13T10:53:07.331985Z"
    },
    "papermill": {
     "duration": 8.428852,
     "end_time": "2021-03-13T10:53:07.332566",
     "exception": false,
     "start_time": "2021-03-13T10:52:58.903714",
     "status": "completed"
    },
    "pycharm": {
     "name": "#%%\n"
    },
    "tags": []
   },
   "outputs": [
    {
     "data": {
      "text/html": [
       "\n",
       "<style>\n",
       "    /* Turns off some styling */\n",
       "    progress {\n",
       "        /* gets rid of default border in Firefox and Opera. */\n",
       "        border: none;\n",
       "        /* Needs to be in here for Safari polyfill so background images work as expected. */\n",
       "        background-size: auto;\n",
       "    }\n",
       "    .progress-bar-interrupted, .progress-bar-interrupted::-webkit-progress-bar {\n",
       "        background: #F44336;\n",
       "    }\n",
       "</style>\n"
      ],
      "text/plain": [
       "<IPython.core.display.HTML object>"
      ]
     },
     "metadata": {},
     "output_type": "display_data"
    },
    {
     "data": {
      "text/html": [],
      "text/plain": [
       "<IPython.core.display.HTML object>"
      ]
     },
     "metadata": {},
     "output_type": "display_data"
    },
    {
     "data": {
      "text/plain": [
       "SuggestedLRs(valley=0.0012022644514217973)"
      ]
     },
     "execution_count": 33,
     "metadata": {},
     "output_type": "execute_result"
    },
    {
     "data": {
      "image/png": "[encoded data removed]",
      "text/plain": [
       "<Figure size 432x288 with 1 Axes>"
      ]
     },
     "metadata": {
      "needs_background": "light"
     },
     "output_type": "display_data"
    }
   ],
   "source": [
    "learn.lr_find()"
   ]
  },
  {
   "cell_type": "markdown",
   "metadata": {
    "papermill": {
     "duration": 0.039724,
     "end_time": "2021-03-13T10:53:07.412243",
     "exception": false,
     "start_time": "2021-03-13T10:53:07.372519",
     "status": "completed"
    },
    "pycharm": {
     "name": "#%% md\n"
    },
    "tags": []
   },
   "source": [
    "# Using Discriminative training technique"
   ]
  },
  {
   "cell_type": "code",
   "execution_count": 34,
   "metadata": {
    "execution": {
     "iopub.execute_input": "2021-03-13T10:53:07.496187Z",
     "iopub.status.busy": "2021-03-13T10:53:07.495604Z",
     "iopub.status.idle": "2021-03-13T10:53:11.546392Z",
     "shell.execute_reply": "2021-03-13T10:53:11.544992Z"
    },
    "papermill": {
     "duration": 4.094649,
     "end_time": "2021-03-13T10:53:11.546520",
     "exception": false,
     "start_time": "2021-03-13T10:53:07.451871",
     "status": "completed"
    },
    "pycharm": {
     "name": "#%%\n"
    },
    "tags": []
   },
   "outputs": [
    {
     "data": {
      "text/html": [
       "\n",
       "<style>\n",
       "    /* Turns off some styling */\n",
       "    progress {\n",
       "        /* gets rid of default border in Firefox and Opera. */\n",
       "        border: none;\n",
       "        /* Needs to be in here for Safari polyfill so background images work as expected. */\n",
       "        background-size: auto;\n",
       "    }\n",
       "    .progress-bar-interrupted, .progress-bar-interrupted::-webkit-progress-bar {\n",
       "        background: #F44336;\n",
       "    }\n",
       "</style>\n"
      ],
      "text/plain": [
       "<IPython.core.display.HTML object>"
      ]
     },
     "metadata": {},
     "output_type": "display_data"
    },
    {
     "data": {
      "text/html": [
       "<table border=\"1\" class=\"dataframe\">\n",
       "  <thead>\n",
       "    <tr style=\"text-align: left;\">\n",
       "      <th>epoch</th>\n",
       "      <th>train_loss</th>\n",
       "      <th>valid_loss</th>\n",
       "      <th>accuracy</th>\n",
       "      <th>time</th>\n",
       "    </tr>\n",
       "  </thead>\n",
       "  <tbody>\n",
       "    <tr>\n",
       "      <td>0</td>\n",
       "      <td>0.907442</td>\n",
       "      <td>0.767067</td>\n",
       "      <td>0.653333</td>\n",
       "      <td>00:05</td>\n",
       "    </tr>\n",
       "  </tbody>\n",
       "</table>"
      ],
      "text/plain": [
       "<IPython.core.display.HTML object>"
      ]
     },
     "metadata": {},
     "output_type": "display_data"
    }
   ],
   "source": [
    "learn.fit_one_cycle(1,2e-3)\n"
   ]
  },
  {
   "cell_type": "code",
   "execution_count": 35,
   "metadata": {
    "execution": {
     "iopub.execute_input": "2021-03-13T10:53:11.642251Z",
     "iopub.status.busy": "2021-03-13T10:53:11.641312Z",
     "iopub.status.idle": "2021-03-13T10:53:15.382417Z",
     "shell.execute_reply": "2021-03-13T10:53:15.381991Z"
    },
    "papermill": {
     "duration": 3.788418,
     "end_time": "2021-03-13T10:53:15.382550",
     "exception": false,
     "start_time": "2021-03-13T10:53:11.594132",
     "status": "completed"
    },
    "pycharm": {
     "name": "#%%\n"
    },
    "tags": []
   },
   "outputs": [
    {
     "data": {
      "text/html": [
       "\n",
       "<style>\n",
       "    /* Turns off some styling */\n",
       "    progress {\n",
       "        /* gets rid of default border in Firefox and Opera. */\n",
       "        border: none;\n",
       "        /* Needs to be in here for Safari polyfill so background images work as expected. */\n",
       "        background-size: auto;\n",
       "    }\n",
       "    .progress-bar-interrupted, .progress-bar-interrupted::-webkit-progress-bar {\n",
       "        background: #F44336;\n",
       "    }\n",
       "</style>\n"
      ],
      "text/plain": [
       "<IPython.core.display.HTML object>"
      ]
     },
     "metadata": {},
     "output_type": "display_data"
    },
    {
     "data": {
      "text/html": [
       "<table border=\"1\" class=\"dataframe\">\n",
       "  <thead>\n",
       "    <tr style=\"text-align: left;\">\n",
       "      <th>epoch</th>\n",
       "      <th>train_loss</th>\n",
       "      <th>valid_loss</th>\n",
       "      <th>accuracy</th>\n",
       "      <th>time</th>\n",
       "    </tr>\n",
       "  </thead>\n",
       "  <tbody>\n",
       "    <tr>\n",
       "      <td>0</td>\n",
       "      <td>0.801563</td>\n",
       "      <td>0.716953</td>\n",
       "      <td>0.683333</td>\n",
       "      <td>00:06</td>\n",
       "    </tr>\n",
       "  </tbody>\n",
       "</table>"
      ],
      "text/plain": [
       "<IPython.core.display.HTML object>"
      ]
     },
     "metadata": {},
     "output_type": "display_data"
    }
   ],
   "source": [
    "learn.freeze_to(-2)\n",
    "# learn.fit_one_cycle(1, slice(1e-2/(2.6**4),1e-2))\n",
    "learn.fit_one_cycle(1)"
   ]
  },
  {
   "cell_type": "code",
   "execution_count": 36,
   "metadata": {
    "execution": {
     "iopub.execute_input": "2021-03-13T10:53:15.470904Z",
     "iopub.status.busy": "2021-03-13T10:53:15.470360Z",
     "iopub.status.idle": "2021-03-13T10:53:19.435973Z",
     "shell.execute_reply": "2021-03-13T10:53:19.435502Z"
    },
    "papermill": {
     "duration": 4.011426,
     "end_time": "2021-03-13T10:53:19.436100",
     "exception": false,
     "start_time": "2021-03-13T10:53:15.424674",
     "status": "completed"
    },
    "pycharm": {
     "name": "#%%\n"
    },
    "tags": []
   },
   "outputs": [
    {
     "data": {
      "text/html": [
       "\n",
       "<style>\n",
       "    /* Turns off some styling */\n",
       "    progress {\n",
       "        /* gets rid of default border in Firefox and Opera. */\n",
       "        border: none;\n",
       "        /* Needs to be in here for Safari polyfill so background images work as expected. */\n",
       "        background-size: auto;\n",
       "    }\n",
       "    .progress-bar-interrupted, .progress-bar-interrupted::-webkit-progress-bar {\n",
       "        background: #F44336;\n",
       "    }\n",
       "</style>\n"
      ],
      "text/plain": [
       "<IPython.core.display.HTML object>"
      ]
     },
     "metadata": {},
     "output_type": "display_data"
    },
    {
     "data": {
      "text/html": [
       "<table border=\"1\" class=\"dataframe\">\n",
       "  <thead>\n",
       "    <tr style=\"text-align: left;\">\n",
       "      <th>epoch</th>\n",
       "      <th>train_loss</th>\n",
       "      <th>valid_loss</th>\n",
       "      <th>accuracy</th>\n",
       "      <th>time</th>\n",
       "    </tr>\n",
       "  </thead>\n",
       "  <tbody>\n",
       "    <tr>\n",
       "      <td>0</td>\n",
       "      <td>0.702724</td>\n",
       "      <td>0.638538</td>\n",
       "      <td>0.746667</td>\n",
       "      <td>00:10</td>\n",
       "    </tr>\n",
       "  </tbody>\n",
       "</table>"
      ],
      "text/plain": [
       "<IPython.core.display.HTML object>"
      ]
     },
     "metadata": {},
     "output_type": "display_data"
    }
   ],
   "source": [
    "learn.freeze_to(-3)\n",
    "# learn.fit_one_cycle(1, slice(5e-3/(2.6**4),5e-3))\n",
    "learn.fit_one_cycle(1)"
   ]
  },
  {
   "cell_type": "code",
   "execution_count": 37,
   "metadata": {
    "execution": {
     "iopub.execute_input": "2021-03-13T10:53:19.523786Z",
     "iopub.status.busy": "2021-03-13T10:53:19.523268Z",
     "iopub.status.idle": "2021-03-13T10:53:41.206567Z",
     "shell.execute_reply": "2021-03-13T10:53:41.206130Z"
    },
    "papermill": {
     "duration": 21.729218,
     "end_time": "2021-03-13T10:53:41.206709",
     "exception": false,
     "start_time": "2021-03-13T10:53:19.477491",
     "status": "completed"
    },
    "pycharm": {
     "name": "#%%\n"
    },
    "tags": []
   },
   "outputs": [
    {
     "data": {
      "text/html": [
       "\n",
       "<style>\n",
       "    /* Turns off some styling */\n",
       "    progress {\n",
       "        /* gets rid of default border in Firefox and Opera. */\n",
       "        border: none;\n",
       "        /* Needs to be in here for Safari polyfill so background images work as expected. */\n",
       "        background-size: auto;\n",
       "    }\n",
       "    .progress-bar-interrupted, .progress-bar-interrupted::-webkit-progress-bar {\n",
       "        background: #F44336;\n",
       "    }\n",
       "</style>\n"
      ],
      "text/plain": [
       "<IPython.core.display.HTML object>"
      ]
     },
     "metadata": {},
     "output_type": "display_data"
    },
    {
     "data": {
      "text/html": [
       "<table border=\"1\" class=\"dataframe\">\n",
       "  <thead>\n",
       "    <tr style=\"text-align: left;\">\n",
       "      <th>epoch</th>\n",
       "      <th>train_loss</th>\n",
       "      <th>valid_loss</th>\n",
       "      <th>accuracy</th>\n",
       "      <th>time</th>\n",
       "    </tr>\n",
       "  </thead>\n",
       "  <tbody>\n",
       "    <tr>\n",
       "      <td>0</td>\n",
       "      <td>0.563322</td>\n",
       "      <td>0.516053</td>\n",
       "      <td>0.786667</td>\n",
       "      <td>00:14</td>\n",
       "    </tr>\n",
       "    <tr>\n",
       "      <td>1</td>\n",
       "      <td>0.474170</td>\n",
       "      <td>0.501195</td>\n",
       "      <td>0.803333</td>\n",
       "      <td>00:15</td>\n",
       "    </tr>\n",
       "    <tr>\n",
       "      <td>2</td>\n",
       "      <td>0.325939</td>\n",
       "      <td>0.451007</td>\n",
       "      <td>0.850000</td>\n",
       "      <td>00:15</td>\n",
       "    </tr>\n",
       "    <tr>\n",
       "      <td>3</td>\n",
       "      <td>0.210689</td>\n",
       "      <td>0.451829</td>\n",
       "      <td>0.850000</td>\n",
       "      <td>00:15</td>\n",
       "    </tr>\n",
       "    <tr>\n",
       "      <td>4</td>\n",
       "      <td>0.145419</td>\n",
       "      <td>0.442970</td>\n",
       "      <td>0.856667</td>\n",
       "      <td>00:15</td>\n",
       "    </tr>\n",
       "  </tbody>\n",
       "</table>"
      ],
      "text/plain": [
       "<IPython.core.display.HTML object>"
      ]
     },
     "metadata": {},
     "output_type": "display_data"
    }
   ],
   "source": [
    "\n",
    "learn.unfreeze()\n",
    "# learn.fit_one_cycle(5, slice(1e-3/(2.6**4),1e-3))\n",
    "learn.fit_one_cycle(5)"
   ]
  },
  {
   "cell_type": "markdown",
   "metadata": {
    "papermill": {
     "duration": 0.041745,
     "end_time": "2021-03-13T10:53:41.291478",
     "exception": false,
     "start_time": "2021-03-13T10:53:41.249733",
     "status": "completed"
    },
    "pycharm": {
     "name": "#%% md\n"
    },
    "tags": []
   },
   "source": [
    "# The model predicts each of the classification at more than 80% of times"
   ]
  },
  {
   "cell_type": "code",
   "execution_count": 38,
   "metadata": {
    "execution": {
     "iopub.execute_input": "2021-03-13T10:53:41.383022Z",
     "iopub.status.busy": "2021-03-13T10:53:41.382233Z",
     "iopub.status.idle": "2021-03-13T10:53:42.089503Z",
     "shell.execute_reply": "2021-03-13T10:53:42.088609Z"
    },
    "papermill": {
     "duration": 0.756406,
     "end_time": "2021-03-13T10:53:42.089642",
     "exception": false,
     "start_time": "2021-03-13T10:53:41.333236",
     "status": "completed"
    },
    "pycharm": {
     "name": "#%%\n"
    },
    "tags": []
   },
   "outputs": [
    {
     "data": {
      "text/html": [
       "\n",
       "<style>\n",
       "    /* Turns off some styling */\n",
       "    progress {\n",
       "        /* gets rid of default border in Firefox and Opera. */\n",
       "        border: none;\n",
       "        /* Needs to be in here for Safari polyfill so background images work as expected. */\n",
       "        background-size: auto;\n",
       "    }\n",
       "    .progress-bar-interrupted, .progress-bar-interrupted::-webkit-progress-bar {\n",
       "        background: #F44336;\n",
       "    }\n",
       "</style>\n"
      ],
      "text/plain": [
       "<IPython.core.display.HTML object>"
      ]
     },
     "metadata": {},
     "output_type": "display_data"
    },
    {
     "data": {
      "text/html": [],
      "text/plain": [
       "<IPython.core.display.HTML object>"
      ]
     },
     "metadata": {},
     "output_type": "display_data"
    },
    {
     "data": {
      "text/html": [
       "\n",
       "<style>\n",
       "    /* Turns off some styling */\n",
       "    progress {\n",
       "        /* gets rid of default border in Firefox and Opera. */\n",
       "        border: none;\n",
       "        /* Needs to be in here for Safari polyfill so background images work as expected. */\n",
       "        background-size: auto;\n",
       "    }\n",
       "    .progress-bar-interrupted, .progress-bar-interrupted::-webkit-progress-bar {\n",
       "        background: #F44336;\n",
       "    }\n",
       "</style>\n"
      ],
      "text/plain": [
       "<IPython.core.display.HTML object>"
      ]
     },
     "metadata": {},
     "output_type": "display_data"
    },
    {
     "data": {
      "text/html": [],
      "text/plain": [
       "<IPython.core.display.HTML object>"
      ]
     },
     "metadata": {},
     "output_type": "display_data"
    },
    {
     "data": {
      "image/png": "[encoded data removed]",
      "text/plain": [
       "<Figure size 720x720 with 1 Axes>"
      ]
     },
     "metadata": {
      "needs_background": "light"
     },
     "output_type": "display_data"
    }
   ],
   "source": [
    "interp = ClassificationInterpretation.from_learner(learn)\n",
    "interp.plot_confusion_matrix(figsize=(12,12), dpi=60)"
   ]
  },
  {
   "cell_type": "markdown",
   "metadata": {
    "papermill": {
     "duration": 0.043344,
     "end_time": "2021-03-13T10:53:42.176242",
     "exception": false,
     "start_time": "2021-03-13T10:53:42.132898",
     "status": "completed"
    },
    "pycharm": {
     "name": "#%% md\n"
    },
    "tags": []
   },
   "source": [
    "# Lets predict some made up tweets"
   ]
  },
  {
   "cell_type": "code",
   "execution_count": 39,
   "metadata": {
    "execution": {
     "iopub.execute_input": "2021-03-13T10:53:42.270417Z",
     "iopub.status.busy": "2021-03-13T10:53:42.269619Z",
     "iopub.status.idle": "2021-03-13T10:53:42.294041Z",
     "shell.execute_reply": "2021-03-13T10:53:42.293464Z"
    },
    "papermill": {
     "duration": 0.075236,
     "end_time": "2021-03-13T10:53:42.294159",
     "exception": false,
     "start_time": "2021-03-13T10:53:42.218923",
     "status": "completed"
    },
    "pycharm": {
     "name": "#%%\n"
    },
    "tags": []
   },
   "outputs": [
    {
     "data": {
      "text/html": [
       "\n",
       "<style>\n",
       "    /* Turns off some styling */\n",
       "    progress {\n",
       "        /* gets rid of default border in Firefox and Opera. */\n",
       "        border: none;\n",
       "        /* Needs to be in here for Safari polyfill so background images work as expected. */\n",
       "        background-size: auto;\n",
       "    }\n",
       "    .progress-bar-interrupted, .progress-bar-interrupted::-webkit-progress-bar {\n",
       "        background: #F44336;\n",
       "    }\n",
       "</style>\n"
      ],
      "text/plain": [
       "<IPython.core.display.HTML object>"
      ]
     },
     "metadata": {},
     "output_type": "display_data"
    },
    {
     "data": {
      "text/html": [],
      "text/plain": [
       "<IPython.core.display.HTML object>"
      ]
     },
     "metadata": {},
     "output_type": "display_data"
    }
   ],
   "source": [
    "pr=learn.predict('lets have lunch')"
   ]
  },
  {
   "cell_type": "code",
   "execution_count": 40,
   "metadata": {
    "execution": {
     "iopub.execute_input": "2021-03-13T10:53:42.386696Z",
     "iopub.status.busy": "2021-03-13T10:53:42.386174Z",
     "iopub.status.idle": "2021-03-13T10:53:42.394742Z",
     "shell.execute_reply": "2021-03-13T10:53:42.394318Z"
    },
    "papermill": {
     "duration": 0.056785,
     "end_time": "2021-03-13T10:53:42.394880",
     "exception": false,
     "start_time": "2021-03-13T10:53:42.338095",
     "status": "completed"
    },
    "pycharm": {
     "name": "#%%\n"
    },
    "tags": []
   },
   "outputs": [
    {
     "data": {
      "text/plain": [
       "('neither', TensorText(1), TensorText([0.0069, 0.9771, 0.0160]))"
      ]
     },
     "execution_count": 40,
     "metadata": {},
     "output_type": "execute_result"
    }
   ],
   "source": [
    "pr"
   ]
  },
  {
   "cell_type": "code",
   "execution_count": 41,
   "metadata": {
    "execution": {
     "iopub.execute_input": "2021-03-13T10:53:42.490162Z",
     "iopub.status.busy": "2021-03-13T10:53:42.489371Z",
     "iopub.status.idle": "2021-03-13T10:53:42.512661Z",
     "shell.execute_reply": "2021-03-13T10:53:42.512246Z"
    },
    "papermill": {
     "duration": 0.073913,
     "end_time": "2021-03-13T10:53:42.512774",
     "exception": false,
     "start_time": "2021-03-13T10:53:42.438861",
     "status": "completed"
    },
    "pycharm": {
     "name": "#%%\n"
    },
    "tags": []
   },
   "outputs": [
    {
     "data": {
      "text/html": [
       "\n",
       "<style>\n",
       "    /* Turns off some styling */\n",
       "    progress {\n",
       "        /* gets rid of default border in Firefox and Opera. */\n",
       "        border: none;\n",
       "        /* Needs to be in here for Safari polyfill so background images work as expected. */\n",
       "        background-size: auto;\n",
       "    }\n",
       "    .progress-bar-interrupted, .progress-bar-interrupted::-webkit-progress-bar {\n",
       "        background: #F44336;\n",
       "    }\n",
       "</style>\n"
      ],
      "text/plain": [
       "<IPython.core.display.HTML object>"
      ]
     },
     "metadata": {},
     "output_type": "display_data"
    },
    {
     "data": {
      "text/html": [],
      "text/plain": [
       "<IPython.core.display.HTML object>"
      ]
     },
     "metadata": {},
     "output_type": "display_data"
    }
   ],
   "source": [
    "pr=learn.predict('die you mad person')"
   ]
  },
  {
   "cell_type": "code",
   "execution_count": 42,
   "metadata": {
    "execution": {
     "iopub.execute_input": "2021-03-13T10:53:42.627047Z",
     "iopub.status.busy": "2021-03-13T10:53:42.626195Z",
     "iopub.status.idle": "2021-03-13T10:53:42.643125Z",
     "shell.execute_reply": "2021-03-13T10:53:42.642289Z"
    },
    "papermill": {
     "duration": 0.084507,
     "end_time": "2021-03-13T10:53:42.643294",
     "exception": false,
     "start_time": "2021-03-13T10:53:42.558787",
     "status": "completed"
    },
    "pycharm": {
     "name": "#%%\n"
    },
    "tags": []
   },
   "outputs": [
    {
     "data": {
      "text/plain": [
       "('hate', TensorText(0), TensorText([0.7691, 0.0237, 0.2073]))"
      ]
     },
     "execution_count": 42,
     "metadata": {},
     "output_type": "execute_result"
    }
   ],
   "source": [
    "pr"
   ]
  },
  {
   "cell_type": "code",
   "execution_count": null,
   "outputs": [],
   "source": [
    "pr=learn.predict('burn the grounds')"
   ],
   "metadata": {
    "collapsed": false,
    "pycharm": {
     "name": "#%%\n"
    }
   }
  },
  {
   "cell_type": "code",
   "execution_count": null,
   "outputs": [],
   "source": [
    "pr"
   ],
   "metadata": {
    "collapsed": false,
    "pycharm": {
     "name": "#%%\n"
    }
   }
  },
  {
   "cell_type": "code",
   "execution_count": 43,
   "metadata": {},
   "outputs": [
    {
     "data": {
      "text/html": [
       "\n",
       "<style>\n",
       "    /* Turns off some styling */\n",
       "    progress {\n",
       "        /* gets rid of default border in Firefox and Opera. */\n",
       "        border: none;\n",
       "        /* Needs to be in here for Safari polyfill so background images work as expected. */\n",
       "        background-size: auto;\n",
       "    }\n",
       "    .progress-bar-interrupted, .progress-bar-interrupted::-webkit-progress-bar {\n",
       "        background: #F44336;\n",
       "    }\n",
       "</style>\n"
      ],
      "text/plain": [
       "<IPython.core.display.HTML object>"
      ]
     },
     "metadata": {},
     "output_type": "display_data"
    },
    {
     "data": {
      "text/html": [],
      "text/plain": [
       "<IPython.core.display.HTML object>"
      ]
     },
     "metadata": {},
     "output_type": "display_data"
    }
   ],
   "source": [
    "pr=learn.predict('burn the grounds')"
   ]
  },
  {
   "cell_type": "code",
   "execution_count": 44,
   "metadata": {},
   "outputs": [
    {
     "data": {
      "text/plain": [
       "('hate', TensorText(0), TensorText([0.8288, 0.0349, 0.1362]))"
      ]
     },
     "execution_count": 44,
     "metadata": {},
     "output_type": "execute_result"
    }
   ],
   "source": [
    "pr"
   ]
  }
 ],
 "metadata": {
  "kernelspec": {
   "display_name": "Python 3 (ipykernel)",
   "language": "python",
   "name": "python3"
  },
  "language_info": {
   "codemirror_mode": {
    "name": "ipython",
    "version": 3
   },
   "file_extension": ".py",
   "mimetype": "text/x-python",
   "name": "python",
   "nbconvert_exporter": "python",
   "pygments_lexer": "ipython3",
   "version": "3.10.4"
  },
  "papermill": {
   "default_parameters": {},
   "duration": 550.897993,
   "end_time": "2021-03-13T10:53:44.335950",
   "environment_variables": {},
   "exception": null,
   "input_path": "__notebook__.ipynb",
   "output_path": "__notebook__.ipynb",
   "parameters": {},
   "start_time": "2021-03-13T10:44:33.437957",
   "version": "2.2.2"
  }
 },
 "nbformat": 4,
 "nbformat_minor": 4
}